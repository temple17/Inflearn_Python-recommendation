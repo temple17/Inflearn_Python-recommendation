{
  "nbformat": 4,
  "nbformat_minor": 0,
  "metadata": {
    "colab": {
      "provenance": [],
      "mount_file_id": "1D3Auo-mkIsPmUsltVByJgthBRQop2ORt",
      "authorship_tag": "ABX9TyNqGdhvY1Aqamqjd/NWFX3H",
      "include_colab_link": true
    },
    "kernelspec": {
      "name": "python3",
      "display_name": "Python 3"
    },
    "language_info": {
      "name": "python"
    },
    "accelerator": "GPU",
    "gpuClass": "standard"
  },
  "cells": [
    {
      "cell_type": "markdown",
      "metadata": {
        "id": "view-in-github",
        "colab_type": "text"
      },
      "source": [
        "<a href=\"https://colab.research.google.com/github/temple17/Inflearn_Python-recommendation/blob/main/3%EC%9E%A5.ipynb\" target=\"_parent\"><img src=\"https://colab.research.google.com/assets/colab-badge.svg\" alt=\"Open In Colab\"/></a>"
      ]
    },
    {
      "cell_type": "code",
      "source": [
        "import numpy as np\n",
        "import pandas as pd"
      ],
      "metadata": {
        "id": "mIpT23f_WmSY"
      },
      "execution_count": 6,
      "outputs": []
    },
    {
      "cell_type": "code",
      "source": [
        "# 데이터 읽어오기(user, item, data)\n",
        "import os\n",
        "base_src = '/content/drive/MyDrive/Python_개인화 추천 시스템'\n",
        "u_user_src = os.path.join(base_src, 'u.user')\n",
        "u_cols = ['user_id', 'age', 'sex', 'occupation', 'zip_code']\n",
        "users = pd.read_csv(u_user_src, sep='|',\n",
        "                    names=u_cols,\n",
        "                    encoding='latin-1')\n",
        "\n",
        "users = users.set_index('user_id')\n",
        "\n",
        "# users = users.set_index('user_id')\n",
        "\n",
        "u_item_src = os.path.join(base_src,'u.item')\n",
        "\n",
        "\n",
        "i_cols = ['movie_id','title','release date','video release date',\n",
        "'IMDB URL','unknown','Action','Adventure','Animation',\n",
        "'Children\\'s','Comedy','Crime','Documentary','Drama','Fantasy','Film-Noir','Horror','Musical','Mystery','Romance','Sci-Fi','Thriller','War','Western']\n",
        "\n",
        "movies = pd.read_csv(u_item_src, sep='|', names=i_cols, encoding='latin-1')\n",
        "movies = movies.set_index('movie_id')\n",
        "\n",
        "\n",
        "# rating 데이터\n",
        "u_data_src = os.path.join(base_src, 'u.data')\n",
        "r_cols = ['user_id', 'movie_id', 'rating', 'timestamp']\n",
        "ratings = pd.read_csv(u_data_src,\n",
        "                      sep = '\\t', \n",
        "                      names = r_cols,\n",
        "                      encoding = 'latin-1')\n",
        "                    "
      ],
      "metadata": {
        "id": "MUfpMFaDTjQR"
      },
      "execution_count": 7,
      "outputs": []
    },
    {
      "cell_type": "code",
      "source": [
        "# RMSE 함수\n",
        "from sklearn.model_selection import train_test_split\n",
        "def RMSE(y_true, y_pred):\n",
        "    return np.sqrt(np.mean((np.array(y_true) - np.array(y_pred))**2))\n",
        "\n",
        "def score(model):\n",
        "    id_pairs = zip(x_test['user_id'], x_test['movie_id'])\n",
        "    y_pred = np.array([model(user, movie) for (user, movie) in id_pairs])\n",
        "    y_true = np.array(x_test['rating'])\n",
        "    return RMSE(y_true, y_pred)\n",
        "\n",
        "# create a dataset\n",
        "\n",
        "x = ratings.copy()\n",
        "y = ratings['user_id']\n",
        "\n",
        "x_train, x_test, y_train, y_test = train_test_split(x, y, test_size=0.25, stratify=y)\n",
        "\n",
        "ratings_matrix = x_train.pivot(index='user_id', columns = 'movie_id', values='rating')\n",
        "\n",
        "### cosine similarity\n",
        "\n",
        "from sklearn.metrics.pairwise import cosine_similarity\n",
        "matrix_dummy = ratings_matrix.copy().fillna(0)\n",
        "user_similarity = cosine_similarity(matrix_dummy, matrix_dummy)\n",
        "user_similarity = pd.DataFrame(user_similarity,\n",
        "                               index=ratings_matrix.index,\n",
        "                               columns=ratings_matrix.index)\n",
        "# pd.DataFrame(user_similarity)\n",
        "user_similarity\n",
        "\n",
        "\n",
        "# 주어진 영화의 가중평균 rating을 계산하는 함수\n",
        "def CF_simple(user_id, movie_id):\n",
        "    if movie_id in ratings_matrix.columns:\n",
        "        sim_scores = user_similarity[user_id].copy()\n",
        "        movie_ratings = ratings_matrix[movie_id].copy()\n",
        "        none_rating_idx = movie_ratings[movie_ratings.isnull()].index\n",
        "        movie_ratings = movie_ratings.dropna()\n",
        "        sim_scores = sim_scores.drop(none_rating_idx)\n",
        "        mean_rating = np.dot(sim_scores, movie_ratings) / sim_scores.sum()\n",
        "    else:\n",
        "        mean_rating = 3.0\n",
        "    return mean_rating\n",
        "\n",
        "# 정확도 계산\n",
        "score(CF_simple)"
      ],
      "metadata": {
        "colab": {
          "base_uri": "https://localhost:8080/"
        },
        "id": "VxPR3fgOT2jF",
        "outputId": "cf8f626c-22c7-4c02-d5b1-631d94658661"
      },
      "execution_count": 8,
      "outputs": [
        {
          "output_type": "execute_result",
          "data": {
            "text/plain": [
              "1.0207225154512969"
            ]
          },
          "metadata": {},
          "execution_count": 8
        }
      ]
    },
    {
      "cell_type": "markdown",
      "source": [
        "# 3.4 이웃을 고려한 CF"
      ],
      "metadata": {
        "id": "0KI8TiDVXOrY"
      }
    },
    {
      "cell_type": "code",
      "source": [
        "# 데이터 읽어오기(user, item, data)\n",
        "import os\n",
        "base_src = '/content/drive/MyDrive/Python_개인화 추천 시스템'\n",
        "u_user_src = os.path.join(base_src, 'u.user')\n",
        "u_cols = ['user_id', 'age', 'sex', 'occupation', 'zip_code']\n",
        "users = pd.read_csv(u_user_src, sep='|',\n",
        "                    names=u_cols,\n",
        "                    encoding='latin-1')\n",
        "\n",
        "users = users.set_index('user_id')\n",
        "\n",
        "# users = users.set_index('user_id')\n",
        "\n",
        "u_item_src = os.path.join(base_src,'u.item')\n",
        "\n",
        "\n",
        "i_cols = ['movie_id','title','release date','video release date',\n",
        "'IMDB URL','unknown','Action','Adventure','Animation',\n",
        "'Children\\'s','Comedy','Crime','Documentary','Drama','Fantasy','Film-Noir','Horror','Musical','Mystery','Romance','Sci-Fi','Thriller','War','Western']\n",
        "\n",
        "movies = pd.read_csv(u_item_src, sep='|', names=i_cols, encoding='latin-1')\n",
        "movies = movies.set_index('movie_id')\n",
        "\n",
        "\n",
        "# rating 데이터\n",
        "u_data_src = os.path.join(base_src, 'u.data')\n",
        "r_cols = ['user_id', 'movie_id', 'rating', 'timestamp']\n",
        "ratings = pd.read_csv(u_data_src,\n",
        "                      sep = '\\t', \n",
        "                      names = r_cols,\n",
        "                      encoding = 'latin-1')\n",
        "\n",
        "# RMSE 함수\n",
        "from sklearn.model_selection import train_test_split\n",
        "def RMSE(y_true, y_pred):\n",
        "    return np.sqrt(np.mean((np.array(y_true) - np.array(y_pred))**2))\n",
        "\n",
        "def score(model, neighbor_size=0):\n",
        "    id_pairs = zip(x_test['user_id'], x_test['movie_id'])\n",
        "    y_pred = np.array([model(user, movie, neighbor_size) for (user, movie) in id_pairs])\n",
        "    y_true = np.array(x_test['rating'])\n",
        "    return RMSE(y_true, y_pred)\n",
        "\n",
        "x = ratings.copy()\n",
        "y = ratings['user_id']\n",
        "\n",
        "x_train, x_test, y_train, y_test = train_test_split(x, y, test_size=0.25, stratify=y)\n",
        "\n",
        "rating_matrix = x_train.pivot(index='user_id', columns = 'movie_id', values='rating')\n",
        "\n",
        "### cosine similarity\n",
        "\n",
        "from sklearn.metrics.pairwise import cosine_similarity\n",
        "matrix_dummy = ratings_matrix.copy().fillna(0)\n",
        "user_similarity = cosine_similarity(matrix_dummy, matrix_dummy)\n",
        "user_similarity = pd.DataFrame(user_similarity,\n",
        "                               index=ratings_matrix.index,\n",
        "                               columns=ratings_matrix.index)\n",
        "\n",
        "#####\n",
        "def CF_knn(user_id, movie_id, neighbor_size=0):\n",
        "    if movie_id in rating_matrix.columns:\n",
        "        sim_scores = user_similarity[user_id].copy()\n",
        "        movie_ratings = rating_matrix[movie_id].copy()\n",
        "        none_rating_idx = movie_ratings[movie_ratings.isnull()].index\n",
        "        movie_ratings = movie_ratings.dropna()\n",
        "        sim_scores = sim_scores.drop(none_rating_idx)\n",
        "\n",
        "        if neighbor_size == 0:\n",
        "            mean_rating = np.dot(sim_scores, movie_ratings) / sim_scores.sum()\n",
        "        else:\n",
        "            if len(sim_scores) > 1:\n",
        "                neighbor_size = min(neighbor_size, len(sim_scores))\n",
        "                sim_scores = np.array(sim_scores)\n",
        "                movie_ratings = np.array(movie_ratings)\n",
        "                user_idx = np.argsort(sim_scores)\n",
        "                sim_scores = sim_scores[user_idx][-neighbor_size:]\n",
        "                movie_ratings = movie_ratings[user_idx][-neighbor_size:]\n",
        "                mean_rating = np.dot(sim_scores, movie_ratings) / sim_scores.sum()\n",
        "            else:\n",
        "                mean_rating = 3.0\n",
        "\n",
        "    else:\n",
        "        mean_rating = 3.0\n",
        "    \n",
        "    return mean_rating\n",
        "\n",
        "# 정확도 계산\n",
        "score(CF_knn, neighbor_size=30)"
      ],
      "metadata": {
        "colab": {
          "base_uri": "https://localhost:8080/"
        },
        "id": "pJiDPBTGXgQ3",
        "outputId": "dd02b0d7-0924-4b1b-c8da-660a933439ed"
      },
      "execution_count": 10,
      "outputs": [
        {
          "output_type": "execute_result",
          "data": {
            "text/plain": [
              "1.002225226663733"
            ]
          },
          "metadata": {},
          "execution_count": 10
        }
      ]
    },
    {
      "cell_type": "code",
      "source": [
        "## 실제 주어진 사용자에 대해 추천을 받는 기능 구현\n",
        "\n",
        "rating_matrix = ratings.pivot_table(values='rating',\n",
        "                                    index='user_id',\n",
        "                                    columns='movie_id')\n",
        "matrix_dummy = rating_matrix.copy().fillna(0)\n",
        "user_similarity = cosine_similarity(matrix_dummy, matrix_dummy)\n",
        "user_similarity = pd.DataFrame(user_similarity,\n",
        "                               index=rating_matrix.index,\n",
        "                               columns=rating_matrix.index)\n",
        "\n",
        "def recom_movie(user_id, n_items, neighbor_size=30):\n",
        "    user_movie = rating_matrix.loc[user_id].copy()\n",
        "\n",
        "    for movie in rating_matrix.columns:\n",
        "        if pd.notnull(user_movie.loc[movie]):\n",
        "            user_movie.loc[movie] = 0\n",
        "        else:\n",
        "            user_movie.loc[movie] = CF_knn(user_id, movie, neighbor_size)\n",
        "    movie_sort = user_movie.sort_values(ascending=False)[:n_items]\n",
        "    recom_movies = movies.loc[movie_sort.index]\n",
        "    recommendations = recom_movies['title']\n",
        "    return recommendations\n",
        "\n",
        "recom_movie(user_id=729, n_items=5, neighbor_size=30)"
      ],
      "metadata": {
        "colab": {
          "base_uri": "https://localhost:8080/"
        },
        "id": "HeCkJUBbZs6D",
        "outputId": "e69a4396-3776-4591-d0d3-88cd5268a79d"
      },
      "execution_count": 11,
      "outputs": [
        {
          "output_type": "execute_result",
          "data": {
            "text/plain": [
              "movie_id\n",
              "1189                      Prefontaine (1997)\n",
              "1293                         Star Kid (1997)\n",
              "1467    Saint of Fort Washington, The (1993)\n",
              "1500               Santa with Muscles (1996)\n",
              "22                         Braveheart (1995)\n",
              "Name: title, dtype: object"
            ]
          },
          "metadata": {},
          "execution_count": 11
        }
      ]
    }
  ]
}